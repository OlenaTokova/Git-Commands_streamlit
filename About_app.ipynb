{
 "cells": [
  {
   "cell_type": "markdown",
   "metadata": {},
   "source": [
    "App Structure and Navigation"
   ]
  },
  {
   "cell_type": "markdown",
   "metadata": {},
   "source": [
    "\n",
    "Title and Sidebar: The app sets up a main title (Git Commands Guide) and a sidebar for navigation. The sidebar allows users to choose between different sections of the guide: 'Home', 'Git Basics', 'Git Branching', 'Additional Resources', and 'AI Chatbot'."
   ]
  },
  {
   "cell_type": "markdown",
   "metadata": {},
   "source": [
    "Pages and Content\n",
    "\n"
   ]
  },
  {
   "cell_type": "markdown",
   "metadata": {},
   "source": [
    "\n",
    "Home Page: When the 'Home' option is selected from the sidebar, the app displays a welcome message (Welcome to the Git Commands Guide. Navigate through the sidebar.) and encourages users to navigate through the sidebar to explore the guide.\n",
    "\n",
    "Git Basics: Selecting 'Git Basics' presents a section header and a markdown block containing summaries and examples of basic Git commands such as git init, git clone, git add, git commit, git status, and git config. This part aims to introduce the fundamental commands required to start using Git.\n",
    "\n",
    "Git Branching: When 'Git Branching' is chosen, the app shows information about branching in Git, which allows developers to diverge from the main development line to work independently. The markdown block explains commands like git branch, git checkout, and git merge, which are essential for managing branches.\n",
    "\n",
    "Additional Resources: This section is intended for linking to extra materials or diagrams that can help users understand Git better. The example includes displaying an image (a diagram of Git workflow) and linking to the official Git documentation.\n",
    "\n",
    "AI Chatbot: This part simulates an AI chatbot where users can input questions about Git, and the app provides predefined responses based on the user's input. It's a basic implementation meant to mimic the behavior of an AI-powered assistant that can help with Git-related queries."
   ]
  },
  {
   "cell_type": "markdown",
   "metadata": {},
   "source": [
    "Interactive Elements\n",
    "\n"
   ]
  },
  {
   "cell_type": "markdown",
   "metadata": {},
   "source": [
    "\n",
    "User Input for AI Chatbot: In the 'AI Chatbot' section, there's an input field where users can type their questions about Git. The app then retrieves a response from a predefined set of answers based on the input. This feature simulates an interactive chatbot experience.\n"
   ]
  },
  {
   "cell_type": "markdown",
   "metadata": {},
   "source": [
    "Additional Commands\n"
   ]
  },
  {
   "cell_type": "markdown",
   "metadata": {},
   "source": [
    "\n",
    "The additional_commands string holds more advanced Git commands and descriptions that the developer intends to incorporate into the relevant sections of the app. This part is more like a placeholder or note for future content expansion.\n"
   ]
  },
  {
   "cell_type": "markdown",
   "metadata": {},
   "source": [
    "\n",
    "How it Works\n"
   ]
  },
  {
   "cell_type": "markdown",
   "metadata": {},
   "source": [
    "\n",
    "Streamlit apps are interactive and reactive; when a user selects an option from the sidebar, the app's content updates dynamically to display the corresponding page or information.\n",
    "The app uses Streamlit's built-in functions (st.title, st.sidebar, st.header, st.markdown, st.image, st.text_input, st.write) to create the UI elements like text, images, headers, and input fields.\n",
    "This code snippet provides a foundational structure for a Git command guide that leverages Streamlit's simplicity and interactivity, making learning Git commands more engaging and accessible."
   ]
  },
  {
   "cell_type": "markdown",
   "metadata": {},
   "source": [
    "Streamlit Commands:\n"
   ]
  },
  {
   "cell_type": "markdown",
   "metadata": {},
   "source": [
    "st.title: Displays a single-line title on the page.\n",
    "\n",
    "st.sidebar: Creates a sidebar on the app's page for additional navigation or input.\n",
    "\n",
    "st.header: Displays a header on the page, used to denote different sections like \"Home\", \"Git Basics\", etc.\n",
    "\n",
    "st.write: Writes text or data to the app's page. It's versatile and can handle a wide range of inputs.\n",
    "\n",
    "st.markdown: Allows for displaying text in Markdown format. This is used to present detailed information in a structured and readable way, including lists, links, and code snippets.\n",
    "\n",
    "st.image: Displays an image on the page, specified by the path to the image file.\n",
    "\n",
    "st.text_input: Creates an input box where users can enter text, used here for the AI chatbot's question input.\n",
    "\n",
    "st.radio: Creates a radio button selection tool. It's used in the sidebar for navigation, letting users choose between different pages of the guide."
   ]
  },
  {
   "cell_type": "markdown",
   "metadata": {},
   "source": [
    "Python Functions and Methods:"
   ]
  },
  {
   "cell_type": "markdown",
   "metadata": {},
   "source": [
    "def (Python keyword for defining functions): Used to define the get_bot_response function, which processes user input for the AI chatbot section and returns a response based on predefined answers.\n",
    "\n",
    "dict.get(): This method is used to retrieve responses from a dictionary based on the user's query. It looks up the user's input (converted to lowercase for consistency) in the predefined responses dictionary and returns the corresponding response if found, or a default message if not.\n",
    "\n",
    ".lower(): A string method that converts all characters in the string to lowercase. It's used to normalize user input for matching against keys in the responses dictionary."
   ]
  },
  {
   "cell_type": "markdown",
   "metadata": {},
   "source": [
    "Python and Streamlit Concepts:\n"
   ]
  },
  {
   "cell_type": "markdown",
   "metadata": {},
   "source": [
    "Conditional Statements (if/elif): Used to determine which content to display based on the user's selection from the sidebar navigation.\n",
    "\n",
    "Markdown Syntax: Embedded within st.markdown calls to format text, create lists, and embed links, enhancing the app's readability and user experience.\n",
    "\n",
    "Dictionaries: Employed to map user inputs to corresponding responses for the AI chatbot functionality.\n",
    "\n",
    "String Manipulation: Utilizing string methods like .lower() to process and match user inputs."
   ]
  }
 ],
 "metadata": {
  "language_info": {
   "name": "python"
  }
 },
 "nbformat": 4,
 "nbformat_minor": 2
}
