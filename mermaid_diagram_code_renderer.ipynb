{
 "cells": [
  {
   "cell_type": "code",
   "execution_count": null,
   "metadata": {},
   "outputs": [],
   "source": [
    "import streamlit.components.v1 as components\n",
    "import streamlit as st"
   ]
  },
  {
   "cell_type": "code",
   "execution_count": null,
   "metadata": {},
   "outputs": [],
   "source": [
    "mermaid_diagram_code = \"\"\"\n",
    "graph TD;\n",
    "    A[Cloning a Repository] --> B[Creating a Branch];\n",
    "    B --> C{Making Changes};\n",
    "    C --> |Yes| D[Pushing Changes];\n",
    "    C --> |No| E[Pulling Changes];\n",
    "    D --> F[Merging Branches];\n",
    "    E --> F;\n",
    "    F --> G[Deleting a Branch];\n",
    "\"\"\""
   ]
  },
  {
   "cell_type": "code",
   "execution_count": null,
   "metadata": {},
   "outputs": [],
   "source": [
    "\n",
    "mermaid_diagram_code\n",
    "\n",
    "def mermaid(mermaid_diagram_code: str) -> None:\n",
    "    components.html(\n",
    "        f\"\"\"\n",
    "        <pre class=\"mermaid\">\n",
    "            {mermaid_diagram_code}\n",
    "        </pre>\n",
    "\n",
    "        <script type=\"module\">\n",
    "            import mermaid from 'https://cdn.jsdelivr.net/npm/mermaid@10/dist/mermaid.esm.min.mjs';\n",
    "            mermaid.initialize({{ startOnLoad: true }});\n",
    "        </script>\n",
    "        \"\"\"\n",
    "    )\n",
    "\n",
    "\n",
    "mermaid(\n",
    "    \"\"\"\n",
    "    graph LR\n",
    "        A --> B --> C\n",
    "    \"\"\"\n",
    ")"
   ]
  }
 ],
 "metadata": {
  "language_info": {
   "name": "python"
  }
 },
 "nbformat": 4,
 "nbformat_minor": 2
}
